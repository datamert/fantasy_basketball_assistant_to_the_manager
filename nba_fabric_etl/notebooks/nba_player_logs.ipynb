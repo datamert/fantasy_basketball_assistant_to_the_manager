{
 "cells": [
  {
   "cell_type": "code",
   "execution_count": null,
   "id": "4fb091e0",
   "metadata": {},
   "outputs": [],
   "source": [
    "#!pip install nba_api\n",
    "#!pip install azure-identity azure-storage-file-datalake\n",
    "#import urllib.request\n",
    "#url = \"https://raw.githubusercontent.com/microsoft/fabric-toolbox/main/tools/OpenMirroringPythonSDK/openmirroring_operations.py\"\n",
    "#urllib.request.urlretrieve(url, \"openmirroring_operations.py\")\n",
    "#!pip install pyarrow"
   ]
  },
  {
   "cell_type": "code",
   "execution_count": null,
   "id": "027df273",
   "metadata": {},
   "outputs": [],
   "source": [
    "from nba_api.stats.endpoints import playergamelog\n",
    "import pandas as pd\n",
    "from openmirroring_operations import OpenMirroringClient\n",
    "from datetime import datetime\n",
    "import os"
   ]
  },
  {
   "cell_type": "code",
   "execution_count": 3,
   "id": "0a74f56c",
   "metadata": {},
   "outputs": [],
   "source": [
    "# Example: Get LeBron James's game logs for 2024–25\n",
    "lebron_id = 2544  # Replace with desired player ID\n",
    "gamelog = playergamelog.PlayerGameLog(player_id=lebron_id, season='2024-25', season_type_all_star='Regular Season')\n",
    "df = gamelog.get_data_frames()[0]\n",
    "df['Timestamp'] = datetime.now().isoformat()"
   ]
  },
  {
   "cell_type": "code",
   "execution_count": null,
   "id": "4e1fed1a",
   "metadata": {},
   "outputs": [],
   "source": [
    "# Replace with your actual values\n",
    "client_id = os.environ[\"FABRIC_CLIENT_ID\"]\n",
    "tenant_id = os.environ[\"FABRIC_TENANT_ID\"]\n",
    "client_secret = os.environ[\"FABRIC_CLIENT_SECRET\"]\n",
    "\n",
    "\n",
    "# Replace with your actual OneLake landing zone URL\n",
    "host = \"https://onelake.dfs.fabric.microsoft.com/66503be7-cb73-4bf0-b14c-dfcdd90f8f13/54f92d2b-e886-4521-9e7a-b339c1917d8f/Files/LandingZone\"\n",
    "\n",
    "# Initialize the client\n",
    "client = OpenMirroringClient(\n",
    "    client_id=client_id,\n",
    "    client_secret=client_secret,\n",
    "    client_tenant=tenant_id,\n",
    "    host=host\n",
    ")"
   ]
  },
  {
   "cell_type": "code",
   "execution_count": 5,
   "id": "c106edfc",
   "metadata": {},
   "outputs": [],
   "source": [
    "#status = client.get_mirrored_database_status()\n",
    "#print(\"Mirrored DB Status:\", status)"
   ]
  },
  {
   "cell_type": "code",
   "execution_count": 6,
   "id": "ab74b82b",
   "metadata": {},
   "outputs": [
    {
     "name": "stdout",
     "output_type": "stream",
     "text": [
      "Folder and _metadata.json created successfully at: nba_stats.schema/player_game_logs\n"
     ]
    }
   ],
   "source": [
    "client.create_table(\n",
    "    schema_name=\"nba_stats\",\n",
    "    table_name=\"player_game_logs\",\n",
    "    key_cols=[\"Player_ID\", \"Game_ID\"]\n",
    ")"
   ]
  },
  {
   "cell_type": "code",
   "execution_count": 7,
   "id": "1805d2bc",
   "metadata": {},
   "outputs": [
    {
     "name": "stdout",
     "output_type": "stream",
     "text": [
      "File uploaded successfully as '_00000000000000000001.parquet'.\n",
      "File renamed from _00000000000000000001.parquet to 00000000000000000001.parquet successfully.\n",
      "File renamed successfully to '00000000000000000001.parquet'.\n"
     ]
    }
   ],
   "source": [
    "# Save as Parquet\n",
    "df.to_parquet(\"lebron_game_logs.parquet\", index=False)\n",
    "\n",
    "# Upload to Fabric\n",
    "client.upload_data_file(\n",
    "    schema_name=\"nba_stats\",\n",
    "    table_name=\"player_game_logs\",\n",
    "    local_file_path=\"lebron_game_logs.parquet\"\n",
    ")"
   ]
  }
 ],
 "metadata": {
  "kernelspec": {
   "display_name": "Python 3",
   "language": "python",
   "name": "python3"
  },
  "language_info": {
   "codemirror_mode": {
    "name": "ipython",
    "version": 3
   },
   "file_extension": ".py",
   "mimetype": "text/x-python",
   "name": "python",
   "nbconvert_exporter": "python",
   "pygments_lexer": "ipython3",
   "version": "3.12.10"
  }
 },
 "nbformat": 4,
 "nbformat_minor": 5
}
